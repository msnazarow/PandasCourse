{
 "cells": [
  {
   "cell_type": "markdown",
   "metadata": {
    "id": "pDrecLU-4QjS",
    "pycharm": {
     "name": "#%% md\n"
    }
   },
   "source": [
    "# Практика\n",
    "Используемые библиотеки"
   ]
  },
  {
   "cell_type": "code",
   "execution_count": null,
   "outputs": [],
   "source": [
    "import random\n",
    "import warnings\n",
    "from itertools import combinations\n",
    "from typing import List\n",
    "\n",
    "import pandas as pd\n",
    "import numpy as np\n",
    "import requests\n",
    "import io\n",
    "import re\n",
    "import urllib.request\n",
    "\n",
    "from IPython.core.display_functions import display\n",
    "%matplotlib inline"
   ],
   "metadata": {
    "collapsed": false,
    "pycharm": {
     "name": "#%%\n"
    }
   }
  },
  {
   "cell_type": "markdown",
   "metadata": {
    "pycharm": {
     "name": "#%% md\n"
    }
   },
   "source": [
    "## Загрузка DataFrame\n",
    "### Задача 1\n",
    "На основании данных портала \"Открытые данные России\" о результатах Химического анализа родника в Нескучном саду https://data.gov.ru/opendata/7708660670-rodnik-neskuchniy-sad\n",
    "средствами библиотеки __Pandas__ сформируйте поле выводов по каждому анализирумомому параметру.\n",
    "Например, по показателю _pH_ получен результат _8.4 единицы pH_ при нормативе от _6 до 9 единиц pH_. Т.о. по данному показателю результат анализа в норме.\n",
    "Для решения задачи необходимо программно \"прочитать и понять\" значение столбца \"Норматив\" и выделенное численное значение сравнить с нормативом согласно логике норматива. Например, __6 >= pH >= 9__.\n",
    "В итоговом DataFrame столбец \"Показатель\" сделайте индексным.\n",
    "\n",
    "\n",
    "Загзрузка DataFrame выполняется непосредственно c сайта \"Открытые данные России\" https://data.gov.ru/opendata/7708660670-rodnik-neskuchniy-sad/data-20160608T1215-structure-20160608T1215.csv (см. код ниже).\n"
   ]
  },
  {
   "cell_type": "code",
   "execution_count": null,
   "outputs": [],
   "source": [
    "# df=pd.read_csv(io.StringIO(s.decode('UTF8')))\n",
    "# df=pd.read_csv(\"Химический анализ родника в Нескучном саду.csv\", sep=';')"
   ],
   "metadata": {
    "collapsed": false,
    "pycharm": {
     "name": "#%%\n"
    }
   }
  },
  {
   "cell_type": "code",
   "execution_count": null,
   "outputs": [],
   "source": [
    "url =\"https://data.gov.ru/opendata/7708660670-rodnik-neskuchniy-sad/data-20160608T1215-structure-20160608T1215.csv\"\n",
    "urllib.request.urlretrieve(url, \"data-analysis.csv\")"
   ],
   "metadata": {
    "collapsed": false,
    "pycharm": {
     "name": "#%%\n"
    }
   }
  },
  {
   "cell_type": "code",
   "execution_count": null,
   "outputs": [],
   "source": [
    "df = pd.read_csv(\"data-analysis.csv\")\n",
    "df.set_index(\"Показатель\", inplace=True)\n",
    "df[\"Результат анализа\"] = pd.to_numeric(df[\"Результат анализа\"], errors=\"coerce\")\n",
    "df[\"Минимум\"] = float(\"-inf\")\n",
    "df[\"Максимум\"] = float(\"inf\")"
   ],
   "metadata": {
    "collapsed": false,
    "pycharm": {
     "name": "#%%\n"
    }
   }
  },
  {
   "cell_type": "markdown",
   "source": [
    "Можем добавить доп. вариант \"не менее\" как возможный"
   ],
   "metadata": {
    "collapsed": false,
    "pycharm": {
     "name": "#%% md\n"
    }
   }
  },
  {
   "cell_type": "code",
   "execution_count": null,
   "outputs": [],
   "source": [
    "# df.loc[\"Общая минерализация (сухой остаток)\", \"Норматив\"] = \"не менее 600\""
   ],
   "metadata": {
    "collapsed": false,
    "pycharm": {
     "name": "#%%\n"
    }
   }
  },
  {
   "cell_type": "code",
   "execution_count": null,
   "outputs": [],
   "source": [
    "df"
   ],
   "metadata": {
    "collapsed": false,
    "pycharm": {
     "name": "#%%\n"
    }
   }
  },
  {
   "cell_type": "markdown",
   "source": [
    "Заполним столбцы Максимум и Минимум"
   ],
   "metadata": {
    "collapsed": false,
    "pycharm": {
     "name": "#%% md\n"
    }
   }
  },
  {
   "cell_type": "code",
   "execution_count": 447,
   "metadata": {
    "pycharm": {
     "name": "#%%\n"
    }
   },
   "outputs": [],
   "source": [
    "df.loc[df[\"Норматив\"].str.match(\"не более\"), \"Максимум\"] = df.loc[df[\"Норматив\"].str.match(\"не более\"), \"Норматив\"].str.findall(r'\\d+,*\\d*').apply(lambda x: x[-1].replace(',', '.')).astype(float).values"
   ]
  },
  {
   "cell_type": "code",
   "execution_count": 448,
   "outputs": [],
   "source": [
    "df.loc[df[\"Норматив\"].str.match(\"не менее\"), \"Минимум\"] = df.loc[df[\"Норматив\"].str.match(\"не менее\"), \"Норматив\"].str.findall(r'\\d+,*\\d*').apply(lambda x: x[0].replace(',', '.')).astype(float).values"
   ],
   "metadata": {
    "collapsed": false,
    "pycharm": {
     "name": "#%%\n"
    }
   }
  },
  {
   "cell_type": "code",
   "execution_count": 449,
   "outputs": [],
   "source": [
    "df.loc[df[\"Норматив\"].str.match(\"в пределах\"), \"Минимум\"] = df.loc[df[\"Норматив\"].str.match(\"в пределах\"), \"Норматив\"].str.findall(r'\\d+,*\\d*').apply(lambda x: x[0].replace(',', '.')).astype(float).values"
   ],
   "metadata": {
    "collapsed": false,
    "pycharm": {
     "name": "#%%\n"
    }
   }
  },
  {
   "cell_type": "code",
   "execution_count": 450,
   "outputs": [],
   "source": [
    "df.loc[df[\"Норматив\"].str.match(\"в пределах\"), \"Максимум\"] = df.loc[df[\"Норматив\"].str.match(\"в пределах\"), \"Норматив\"].str.findall(r'\\d+,*\\d*').apply(lambda x: x[-1].replace(',', '.')).astype(float).values"
   ],
   "metadata": {
    "collapsed": false,
    "pycharm": {
     "name": "#%%\n"
    }
   }
  },
  {
   "cell_type": "code",
   "execution_count": 456,
   "outputs": [],
   "source": [
    "df[\"Вывод\"] = df[\"Результат анализа\"].isnull() | (df[\"Результат анализа\"] < df[\"Максимум\"]) & (df[\"Результат анализа\"] > df[\"Минимум\"])\n",
    "df[\"Вывод\"] = df[\"Вывод\"].apply(lambda x: \"Норма\" if x else \"Отклонение\")"
   ],
   "metadata": {
    "collapsed": false,
    "pycharm": {
     "name": "#%%\n"
    }
   }
  },
  {
   "cell_type": "code",
   "execution_count": 457,
   "outputs": [
    {
     "data": {
      "text/plain": "                                      Единица измерений  Результат анализа  \\\nПоказатель                                                                   \npH                                           единицы pH              8.400   \nЗапах                                             баллы              1.000   \nЦветность                                       градусы                NaN   \nЖёсткость                                   мг-эквл/дм3              9.200   \nАммиак и аммоний-ион (по азоту)                  мг/дм3              0.420   \nНитриты (по NO2)                                 мг/дм3              0.017   \nНитраты (по NO3)                                 мг/дм3             24.000   \nФосфаты (P)                                      мг/дм3              0.360   \nХлориды (Cl)                                     мг/дм3            200.000   \nСульфаты (SO4)                                   мг/дм3            189.500   \nЖелезо (включая хлорное железо) по Fe            мг/дм3              0.019   \nНефть                                            мг/дм3              0.550   \nОбщая минерализация (сухой остаток)              мг/дм3            590.000   \nОкисляемость перманганатная                      мг/дм3              2.000   \n\n                                              Норматив Минимум Максимум  \\\nПоказатель                                                                \npH                                      в пределах 6-9     6.0      9.0   \nЗапах                                     не более 2-3    -inf      3.0   \nЦветность                                  не более 30    -inf     30.0   \nЖёсткость                              в пределах 7-10     7.0     10.0   \nАммиак и аммоний-ион (по азоту)           не более 1,5    -inf      1.5   \nНитриты (по NO2)                          не более 3,3    -inf      3.3   \nНитраты (по NO3)                           не более 45    -inf     45.0   \nФосфаты (P)                               не более 3,5    -inf      3.5   \nХлориды (Cl)                              не более 350    -inf    350.0   \nСульфаты (SO4)                            не более 500    -inf    500.0   \nЖелезо (включая хлорное железо) по Fe     не более 0,3    -inf      0.3   \nНефть                                     не более 0,3    -inf      0.3   \nОбщая минерализация (сухой остаток)      не более 1000    -inf   1000.0   \nОкисляемость перманганатная               не более 0,5    -inf      0.5   \n\n                                            Вывод  \nПоказатель                                         \npH                                          Норма  \nЗапах                                       Норма  \nЦветность                                   Норма  \nЖёсткость                                   Норма  \nАммиак и аммоний-ион (по азоту)             Норма  \nНитриты (по NO2)                            Норма  \nНитраты (по NO3)                            Норма  \nФосфаты (P)                                 Норма  \nХлориды (Cl)                                Норма  \nСульфаты (SO4)                              Норма  \nЖелезо (включая хлорное железо) по Fe       Норма  \nНефть                                  Отклонение  \nОбщая минерализация (сухой остаток)         Норма  \nОкисляемость перманганатная            Отклонение  ",
      "text/html": "<div>\n<style scoped>\n    .dataframe tbody tr th:only-of-type {\n        vertical-align: middle;\n    }\n\n    .dataframe tbody tr th {\n        vertical-align: top;\n    }\n\n    .dataframe thead th {\n        text-align: right;\n    }\n</style>\n<table border=\"1\" class=\"dataframe\">\n  <thead>\n    <tr style=\"text-align: right;\">\n      <th></th>\n      <th>Единица измерений</th>\n      <th>Результат анализа</th>\n      <th>Норматив</th>\n      <th>Минимум</th>\n      <th>Максимум</th>\n      <th>Вывод</th>\n    </tr>\n    <tr>\n      <th>Показатель</th>\n      <th></th>\n      <th></th>\n      <th></th>\n      <th></th>\n      <th></th>\n      <th></th>\n    </tr>\n  </thead>\n  <tbody>\n    <tr>\n      <th>pH</th>\n      <td>единицы pH</td>\n      <td>8.400</td>\n      <td>в пределах 6-9</td>\n      <td>6.0</td>\n      <td>9.0</td>\n      <td>Норма</td>\n    </tr>\n    <tr>\n      <th>Запах</th>\n      <td>баллы</td>\n      <td>1.000</td>\n      <td>не более 2-3</td>\n      <td>-inf</td>\n      <td>3.0</td>\n      <td>Норма</td>\n    </tr>\n    <tr>\n      <th>Цветность</th>\n      <td>градусы</td>\n      <td>NaN</td>\n      <td>не более 30</td>\n      <td>-inf</td>\n      <td>30.0</td>\n      <td>Норма</td>\n    </tr>\n    <tr>\n      <th>Жёсткость</th>\n      <td>мг-эквл/дм3</td>\n      <td>9.200</td>\n      <td>в пределах 7-10</td>\n      <td>7.0</td>\n      <td>10.0</td>\n      <td>Норма</td>\n    </tr>\n    <tr>\n      <th>Аммиак и аммоний-ион (по азоту)</th>\n      <td>мг/дм3</td>\n      <td>0.420</td>\n      <td>не более 1,5</td>\n      <td>-inf</td>\n      <td>1.5</td>\n      <td>Норма</td>\n    </tr>\n    <tr>\n      <th>Нитриты (по NO2)</th>\n      <td>мг/дм3</td>\n      <td>0.017</td>\n      <td>не более 3,3</td>\n      <td>-inf</td>\n      <td>3.3</td>\n      <td>Норма</td>\n    </tr>\n    <tr>\n      <th>Нитраты (по NO3)</th>\n      <td>мг/дм3</td>\n      <td>24.000</td>\n      <td>не более 45</td>\n      <td>-inf</td>\n      <td>45.0</td>\n      <td>Норма</td>\n    </tr>\n    <tr>\n      <th>Фосфаты (P)</th>\n      <td>мг/дм3</td>\n      <td>0.360</td>\n      <td>не более 3,5</td>\n      <td>-inf</td>\n      <td>3.5</td>\n      <td>Норма</td>\n    </tr>\n    <tr>\n      <th>Хлориды (Cl)</th>\n      <td>мг/дм3</td>\n      <td>200.000</td>\n      <td>не более 350</td>\n      <td>-inf</td>\n      <td>350.0</td>\n      <td>Норма</td>\n    </tr>\n    <tr>\n      <th>Сульфаты (SO4)</th>\n      <td>мг/дм3</td>\n      <td>189.500</td>\n      <td>не более 500</td>\n      <td>-inf</td>\n      <td>500.0</td>\n      <td>Норма</td>\n    </tr>\n    <tr>\n      <th>Железо (включая хлорное железо) по Fe</th>\n      <td>мг/дм3</td>\n      <td>0.019</td>\n      <td>не более 0,3</td>\n      <td>-inf</td>\n      <td>0.3</td>\n      <td>Норма</td>\n    </tr>\n    <tr>\n      <th>Нефть</th>\n      <td>мг/дм3</td>\n      <td>0.550</td>\n      <td>не более 0,3</td>\n      <td>-inf</td>\n      <td>0.3</td>\n      <td>Отклонение</td>\n    </tr>\n    <tr>\n      <th>Общая минерализация (сухой остаток)</th>\n      <td>мг/дм3</td>\n      <td>590.000</td>\n      <td>не более 1000</td>\n      <td>-inf</td>\n      <td>1000.0</td>\n      <td>Норма</td>\n    </tr>\n    <tr>\n      <th>Окисляемость перманганатная</th>\n      <td>мг/дм3</td>\n      <td>2.000</td>\n      <td>не более 0,5</td>\n      <td>-inf</td>\n      <td>0.5</td>\n      <td>Отклонение</td>\n    </tr>\n  </tbody>\n</table>\n</div>"
     },
     "execution_count": 457,
     "metadata": {},
     "output_type": "execute_result"
    }
   ],
   "source": [
    "df"
   ],
   "metadata": {
    "collapsed": false,
    "pycharm": {
     "name": "#%%\n"
    }
   }
  },
  {
   "cell_type": "markdown",
   "source": [
    "Заключаем что наблюдаются отклонения по Нефти и по окисляемости пермарганатной"
   ],
   "metadata": {
    "collapsed": false,
    "pycharm": {
     "name": "#%% md\n"
    }
   }
  },
  {
   "cell_type": "markdown",
   "metadata": {
    "id": "gUvTNDlMaV-a",
    "pycharm": {
     "name": "#%% md\n"
    }
   },
   "source": [
    "## Теория вероятности. События\n",
    "\n",
    "Требуется сгенерировать необходимые выборки и произвести по ним расчеты"
   ]
  },
  {
   "cell_type": "markdown",
   "metadata": {
    "id": "t0XOMos2Tl0e",
    "pycharm": {
     "name": "#%% md\n"
    }
   },
   "source": [
    "### Задача 2\n",
    "В ящике 5 апельсинов и 4 яблока. Наудачу выбираются 3 фрукта. Какова вероятность, что все три фрукта – апельсины?\n",
    "\n",
    "В интернете полученный аналитически ответ 0.119. Подтверждается ли он эксперементально?"
   ]
  },
  {
   "cell_type": "markdown",
   "source": [
    "Сначала приведем теоретическое решение. Вероятность это просто отношение количества сочетаний по 3 из 5 апельсинов ко всем сочетаням по 3 из 9"
   ],
   "metadata": {
    "collapsed": false,
    "pycharm": {
     "name": "#%% md\n"
    }
   }
  },
  {
   "cell_type": "code",
   "execution_count": 548,
   "outputs": [],
   "source": [
    "theory = len(list(combinations(range(5), 3))) / len(list(combinations(range(9), 3)))"
   ],
   "metadata": {
    "collapsed": false,
    "pycharm": {
     "name": "#%%\n"
    }
   }
  },
  {
   "cell_type": "markdown",
   "source": [
    "Теперь проведем симуляцию"
   ],
   "metadata": {
    "collapsed": false,
    "pycharm": {
     "name": "#%% md\n"
    }
   }
  },
  {
   "cell_type": "code",
   "execution_count": 561,
   "metadata": {
    "id": "o7NjAE9uUo-L",
    "pycharm": {
     "name": "#%%\n"
    }
   },
   "outputs": [],
   "source": [
    "N = 100000\n",
    "box = ['Я']*4 + ['A']*5\n",
    "cases = []\n",
    "def grab_fruit(box: List[int]):\n",
    "    random.shuffle(box)\n",
    "    return tuple(box[:3])\n",
    "\n",
    "for i in range(N):\n",
    "    cases.append(grab_fruit(box))\n",
    "\n",
    "cases = pd.Series(cases)\n",
    "simulator = len(cases[cases == (\"A\", \"A\", \"A\")]) / len(cases)"
   ]
  },
  {
   "cell_type": "code",
   "execution_count": 562,
   "outputs": [
    {
     "data": {
      "text/plain": "'0.183%'"
     },
     "execution_count": 562,
     "metadata": {},
     "output_type": "execute_result"
    }
   ],
   "source": [
    "\"{:.3%}\".format(abs(simulator - theory) / theory)"
   ],
   "metadata": {
    "collapsed": false,
    "pycharm": {
     "name": "#%%\n"
    }
   }
  },
  {
   "cell_type": "markdown",
   "source": [
    "Погрешность в пределах 1 процента позволяет заключить что опыт релевантен теоретическим выкладкам"
   ],
   "metadata": {
    "collapsed": false,
    "pycharm": {
     "name": "#%% md\n"
    }
   }
  },
  {
   "cell_type": "markdown",
   "metadata": {
    "id": "g7A7QlvGTnwZ",
    "pycharm": {
     "name": "#%% md\n"
    }
   },
   "source": [
    "### Задача 3\n",
    "Мастер, имея 10 деталей, из которых 3 – нестандартных, проверяет детали одну за другой, пока ему не попадется стандартная. Какова вероятность, что он проверит ровно две детали?\n",
    "В интернете полученный аналитически ответ 7/30 или 0.23333. Подтверждается ли он экспериментально?"
   ]
  },
  {
   "cell_type": "markdown",
   "source": [
    "Решим теоретически\n",
    "У нас совокупность двух событий - мастер достал первую нестандартную и вторую стандартную. Только в этом случае он достанет ровно две детали. Перемножив вероятности этих событий получим ответ"
   ],
   "metadata": {
    "collapsed": false,
    "pycharm": {
     "name": "#%% md\n"
    }
   }
  },
  {
   "cell_type": "code",
   "execution_count": 566,
   "metadata": {
    "pycharm": {
     "name": "#%%\n"
    }
   },
   "outputs": [
    {
     "data": {
      "text/plain": "0.23333333333333328"
     },
     "execution_count": 566,
     "metadata": {},
     "output_type": "execute_result"
    }
   ],
   "source": [
    "theory = 7/10 * 3/9"
   ]
  },
  {
   "cell_type": "markdown",
   "source": [
    "Проведем симуляцию"
   ],
   "metadata": {
    "collapsed": false,
    "pycharm": {
     "name": "#%% md\n"
    }
   }
  },
  {
   "cell_type": "code",
   "execution_count": 574,
   "outputs": [],
   "source": [
    "N = 100000\n",
    "box = ['N']*3 + ['S']*7\n",
    "cases = []\n",
    "def grab_fruit(box: List[int]):\n",
    "    random.shuffle(box)\n",
    "    result = []\n",
    "    for el in box:\n",
    "        result.append(el)\n",
    "        if el == 'S':\n",
    "            return len(result)\n",
    "\n",
    "for i in range(N):\n",
    "    cases.append(grab_fruit(box))\n",
    "\n",
    "cases = pd.Series(cases)\n",
    "simulator = len(cases[cases == 2]) / len(cases)"
   ],
   "metadata": {
    "collapsed": false,
    "pycharm": {
     "name": "#%%\n"
    }
   }
  },
  {
   "cell_type": "code",
   "execution_count": 575,
   "outputs": [
    {
     "data": {
      "text/plain": "'0.083%'"
     },
     "execution_count": 575,
     "metadata": {},
     "output_type": "execute_result"
    }
   ],
   "source": [
    "\"{:.3%}\".format(abs(simulator - theory) / theory)"
   ],
   "metadata": {
    "collapsed": false,
    "pycharm": {
     "name": "#%%\n"
    }
   }
  },
  {
   "cell_type": "markdown",
   "source": [
    "Погрешность в пределах 1 процента позволяет заключить что опыт релевантен теоретическим выкладкам"
   ],
   "metadata": {
    "collapsed": false,
    "pycharm": {
     "name": "#%% md\n"
    }
   }
  }
 ],
 "metadata": {
  "celltoolbar": "Raw Cell Format",
  "colab": {
   "collapsed_sections": [],
   "name": "Практика к занятию 11.ipynb",
   "provenance": []
  },
  "kernelspec": {
   "display_name": "Python 3",
   "language": "python",
   "name": "python3"
  },
  "language_info": {
   "codemirror_mode": {
    "name": "ipython",
    "version": 3
   },
   "file_extension": ".py",
   "mimetype": "text/x-python",
   "name": "python",
   "nbconvert_exporter": "python",
   "pygments_lexer": "ipython3",
   "version": "3.8.5"
  }
 },
 "nbformat": 4,
 "nbformat_minor": 1
}